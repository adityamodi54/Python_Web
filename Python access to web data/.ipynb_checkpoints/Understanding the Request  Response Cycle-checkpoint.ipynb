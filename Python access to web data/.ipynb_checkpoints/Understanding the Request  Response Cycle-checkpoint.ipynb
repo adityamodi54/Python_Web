{
 "cells": [
  {
   "cell_type": "code",
   "execution_count": null,
   "metadata": {},
   "outputs": [],
   "source": [
    "'''\n",
    "\n",
    "Done\n",
    "Welcome Aditya Modi from Using Python to Access Web Data\n",
    "\n",
    "Exploring the HyperText Transport Protocol\n",
    "\n",
    "You are to retrieve the following document using the HTTP protocol in a way that you can examine the HTTP Response headers.\n",
    "\n",
    "http://data.pr4e.org/intro-short.txt\n",
    "There are three ways that you might retrieve this web page and look at the response headers:\n",
    "\n",
    "Preferred: Modify the socket1.py program to retrieve the above URL and print out the headers and data. \n",
    "Make sure to change the code to retrieve the above URL - the values are different for each URL.\n",
    "Open the URL in a web browser with a developer console or FireBug and manually examine the headers that are returned.\n",
    "Use the telnet program as shown in lecture to retrieve the headers and content.\n",
    "Enter the header values in each of the fields below and press \"Submit\".\n",
    "\n",
    "Last-Modified:\n",
    "\n",
    " \n",
    "ETag:\n",
    "\n",
    " \n",
    "Content-Length:\n",
    "\n",
    " \n",
    "Cache-Control:\n",
    "\n",
    " \n",
    "Content-Type:\n",
    "\n",
    " '''"
   ]
  },
  {
   "cell_type": "code",
   "execution_count": null,
   "metadata": {},
   "outputs": [],
   "source": [
    " ''' \n",
    " \n",
    " how to find these tags ?\n",
    " \n",
    " '''"
   ]
  }
 ],
 "metadata": {
  "kernelspec": {
   "display_name": "Python 3",
   "language": "python",
   "name": "python3"
  },
  "language_info": {
   "codemirror_mode": {
    "name": "ipython",
    "version": 3
   },
   "file_extension": ".py",
   "mimetype": "text/x-python",
   "name": "python",
   "nbconvert_exporter": "python",
   "pygments_lexer": "ipython3",
   "version": "3.6.5"
  }
 },
 "nbformat": 4,
 "nbformat_minor": 2
}
