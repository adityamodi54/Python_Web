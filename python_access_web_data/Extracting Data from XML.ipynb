{
 "cells": [
  {
   "cell_type": "code",
   "execution_count": null,
   "metadata": {},
   "outputs": [],
   "source": [
    "'''\n",
    "\n",
    "Extracting Data from XML\n",
    "\n",
    "In this assignment you will write a Python program somewhat similar to \n",
    "http://www.py4e.com/code3/geoxml.py. \n",
    "The program will prompt for a URL, \n",
    "read the XML data from that URL using urllib \n",
    "and then parse and extract the comment counts from the XML data, \n",
    "compute the sum of the numbers in the file.\n",
    "\n",
    "\n",
    "Sample data: http://py4e-data.dr-chuck.net/comments_42.xml (Sum=2553)\n",
    "Actual data: http://py4e-data.dr-chuck.net/comments_113067.xml (Sum ends with 13)\n",
    "\n",
    "The data consists of a number of names and comment counts in XML as follows:\n",
    "\n",
    "<comment>\n",
    "  <name>Matthias</name>\n",
    "  <count>97</count>\n",
    "</comment>\n",
    "\n",
    "You are to look through all the <comment> tags \n",
    "and find the <count> values sum the numbers. \n",
    "The closest sample code that shows how to parse XML is geoxml.py. \n",
    "\n",
    "But since the nesting of the elements in our data is different \n",
    "than the data we are parsing in that sample code you will have to make real changes to the code.\n",
    "To make the code a little simpler, \n",
    "you can use an XPath selector string to look through \n",
    "the entire tree of XML for any tag named 'count' with the following line of code:\n",
    "\n",
    "counts = tree.findall('.//count')\n",
    "Take a look at the Python ElementTree documentation and look for the supported XPath syntax for details. \n",
    "You could also work from the top of the XML down to the comments node and then loop through the child nodes of the comments node.\n",
    "Sample Execution\n",
    "\n",
    "$ python3 solution.py\n",
    "Enter location: http://py4e-data.dr-chuck.net/comments_42.xml\n",
    "Retrieving http://py4e-data.dr-chuck.net/comments_42.xml\n",
    "Retrieved 4189 characters\n",
    "Count: 50\n",
    "Sum: 2...\n",
    "Turning in the Assignment\n",
    "\n",
    "Enter the sum from the actual data and your Python code below:\n",
    "Sum: \n",
    " (ends with 13) \n",
    "Python code:\n",
    "\n",
    "\n",
    "Select Language​▼\n",
    "\n",
    "'''"
   ]
  },
  {
   "cell_type": "code",
   "execution_count": 1,
   "metadata": {},
   "outputs": [
    {
     "data": {
      "text/plain": [
       "'\\nread xml\\nget count\\nadd count\\n'"
      ]
     },
     "execution_count": 1,
     "metadata": {},
     "output_type": "execute_result"
    }
   ],
   "source": [
    "'''\n",
    "\n",
    "read xml\n",
    "get count\n",
    "add count\n",
    "\n",
    "could not read the xml for some reason\n",
    "\n",
    "'''"
   ]
  },
  {
   "cell_type": "code",
   "execution_count": 12,
   "metadata": {},
   "outputs": [
    {
     "ename": "ParseError",
     "evalue": "syntax error: line 1, column 0 (<string>)",
     "output_type": "error",
     "traceback": [
      "Traceback \u001b[1;36m(most recent call last)\u001b[0m:\n",
      "  File \u001b[0;32m\"C:\\Users\\Aditya Modi\\Anaconda3\\lib\\site-packages\\IPython\\core\\interactiveshell.py\"\u001b[0m, line \u001b[0;32m2963\u001b[0m, in \u001b[0;35mrun_code\u001b[0m\n    exec(code_obj, self.user_global_ns, self.user_ns)\n",
      "  File \u001b[0;32m\"<ipython-input-12-87031538fa06>\"\u001b[0m, line \u001b[0;32m3\u001b[0m, in \u001b[0;35m<module>\u001b[0m\n    e = xml.etree.ElementTree.parse(r'C:\\Users\\Aditya Modi\\Desktop\\Py\\xmlsample.xml').getroot()\n",
      "  File \u001b[0;32m\"C:\\Users\\Aditya Modi\\Anaconda3\\lib\\xml\\etree\\ElementTree.py\"\u001b[0m, line \u001b[0;32m1196\u001b[0m, in \u001b[0;35mparse\u001b[0m\n    tree.parse(source, parser)\n",
      "\u001b[1;36m  File \u001b[1;32m\"C:\\Users\\Aditya Modi\\Anaconda3\\lib\\xml\\etree\\ElementTree.py\"\u001b[1;36m, line \u001b[1;32m597\u001b[1;36m, in \u001b[1;35mparse\u001b[1;36m\u001b[0m\n\u001b[1;33m    self._root = parser._parse_whole(source)\u001b[0m\n",
      "\u001b[1;36m  File \u001b[1;32m\"<string>\"\u001b[1;36m, line \u001b[1;32munknown\u001b[0m\n\u001b[1;31mParseError\u001b[0m\u001b[1;31m:\u001b[0m syntax error: line 1, column 0\n"
     ]
    }
   ],
   "source": [
    "# C:\\Users\\Aditya Modi\\Desktop\\Py\\xmlsample.xml\n",
    "import xml.etree.ElementTree\n",
    "e = xml.etree.ElementTree.parse(r'C:\\Users\\Aditya Modi\\Desktop\\Py\\xmlsample.xml').getroot()\n",
    "for atype in e.findall('comment'):\n",
    "    print(atype.get('count'))"
   ]
  },
  {
   "cell_type": "code",
   "execution_count": null,
   "metadata": {},
   "outputs": [],
   "source": []
  },
  {
   "cell_type": "code",
   "execution_count": 26,
   "metadata": {},
   "outputs": [
    {
     "name": "stdout",
     "output_type": "stream",
     "text": [
      "[<count>97</count>, <count>97</count>, <count>90</count>, <count>90</count>, <count>88</count>, <count>87</count>, <count>87</count>, <count>80</count>, <count>79</count>, <count>79</count>, <count>78</count>, <count>76</count>, <count>76</count>, <count>72</count>, <count>72</count>, <count>66</count>, <count>66</count>, <count>65</count>, <count>65</count>, <count>64</count>, <count>61</count>, <count>61</count>, <count>59</count>, <count>58</count>, <count>57</count>, <count>57</count>, <count>54</count>, <count>51</count>, <count>49</count>, <count>47</count>, <count>40</count>, <count>38</count>, <count>37</count>, <count>36</count>, <count>36</count>, <count>32</count>, <count>25</count>, <count>24</count>, <count>22</count>, <count>21</count>, <count>19</count>, <count>18</count>, <count>18</count>, <count>14</count>, <count>12</count>, <count>12</count>, <count>9</count>, <count>7</count>, <count>3</count>, <count>2</count>]\n"
     ]
    },
    {
     "name": "stderr",
     "output_type": "stream",
     "text": [
      "C:\\Users\\Aditya Modi\\Anaconda3\\lib\\site-packages\\bs4\\__init__.py:181: UserWarning: No parser was explicitly specified, so I'm using the best available HTML parser for this system (\"lxml\"). This usually isn't a problem, but if you run this code on another system, or in a different virtual environment, it may use a different parser and behave differently.\n",
      "\n",
      "The code that caused this warning is on line 193 of the file C:\\Users\\Aditya Modi\\Anaconda3\\lib\\runpy.py. To get rid of this warning, change code that looks like this:\n",
      "\n",
      " BeautifulSoup(YOUR_MARKUP})\n",
      "\n",
      "to this:\n",
      "\n",
      " BeautifulSoup(YOUR_MARKUP, \"lxml\")\n",
      "\n",
      "  markup_type=markup_type))\n"
     ]
    },
    {
     "ename": "ValueError",
     "evalue": "invalid literal for int() with base 10: 'xml version=\"1.0\" encoding=\"UTF-8\"?'",
     "output_type": "error",
     "traceback": [
      "\u001b[1;31m---------------------------------------------------------------------------\u001b[0m",
      "\u001b[1;31mValueError\u001b[0m                                Traceback (most recent call last)",
      "\u001b[1;32m<ipython-input-26-428bee8b71b7>\u001b[0m in \u001b[0;36m<module>\u001b[1;34m()\u001b[0m\n\u001b[0;32m     32\u001b[0m \u001b[1;33m\u001b[0m\u001b[0m\n\u001b[0;32m     33\u001b[0m \u001b[1;32mfor\u001b[0m \u001b[0mspan\u001b[0m \u001b[1;32min\u001b[0m \u001b[0my\u001b[0m\u001b[1;33m:\u001b[0m\u001b[1;33m\u001b[0m\u001b[0m\n\u001b[1;32m---> 34\u001b[1;33m     \u001b[0mnumbers\u001b[0m\u001b[1;33m.\u001b[0m\u001b[0mappend\u001b[0m\u001b[1;33m(\u001b[0m\u001b[0mint\u001b[0m\u001b[1;33m(\u001b[0m\u001b[0mspan\u001b[0m\u001b[1;33m.\u001b[0m\u001b[0mstring\u001b[0m\u001b[1;33m)\u001b[0m\u001b[1;33m)\u001b[0m\u001b[1;33m\u001b[0m\u001b[0m\n\u001b[0m\u001b[0;32m     35\u001b[0m \u001b[1;33m\u001b[0m\u001b[0m\n\u001b[0;32m     36\u001b[0m \u001b[0mprint\u001b[0m \u001b[1;33m(\u001b[0m\u001b[0msum\u001b[0m\u001b[1;33m(\u001b[0m\u001b[0mnumbers\u001b[0m\u001b[1;33m)\u001b[0m\u001b[1;33m)\u001b[0m\u001b[1;33m\u001b[0m\u001b[0m\n",
      "\u001b[1;31mValueError\u001b[0m: invalid literal for int() with base 10: 'xml version=\"1.0\" encoding=\"UTF-8\"?'"
     ]
    }
   ],
   "source": [
    "# from bs4 import BeautifulSoup\n",
    "\n",
    "# x=\"\"\"<foo>\n",
    "#    <bar>\n",
    "#       <type foobar=\"1\"/>\n",
    "#       <type foobar=\"2\"/>\n",
    "#    </bar>\n",
    "# </foo>\"\"\"\n",
    "\n",
    "# y=BeautifulSoup(x)\n",
    "# >>> y.foo.bar.type[\"foobar\"]\n",
    "# u'1'\n",
    "\n",
    "# >>> y.foo.bar.findAll(\"type\")\n",
    "# [<type foobar=\"1\"></type>, <type foobar=\"2\"></type>]\n",
    "\n",
    "# >>> y.foo.bar.findAll(\"type\")[0][\"foobar\"]\n",
    "# u'1'\n",
    "# >>> y.foo.bar.findAll(\"type\")[1][\"foobar\"]\n",
    "# u'2'\n",
    "\n",
    "\n",
    "import urllib.request\n",
    "from bs4 import BeautifulSoup\n",
    "\n",
    "page = urllib.request.urlopen('http://py4e-data.dr-chuck.net/comments_42.xml')\n",
    "y=BeautifulSoup(page)\n",
    "# print(y)\n",
    "spans = y('count')\n",
    "print(spans)\n",
    "numbers = []\n",
    "\n",
    "for span in y:\n",
    "    numbers.append(int(span.string))\n",
    "\n",
    "print (sum(numbers))\n"
   ]
  },
  {
   "cell_type": "code",
   "execution_count": 14,
   "metadata": {},
   "outputs": [
    {
     "ename": "ExpatError",
     "evalue": "syntax error: line 1, column 0",
     "output_type": "error",
     "traceback": [
      "\u001b[1;31m---------------------------------------------------------------------------\u001b[0m",
      "\u001b[1;31mExpatError\u001b[0m                                Traceback (most recent call last)",
      "\u001b[1;32m<ipython-input-14-1b6f9458607c>\u001b[0m in \u001b[0;36m<module>\u001b[1;34m()\u001b[0m\n\u001b[0;32m      1\u001b[0m \u001b[1;32mfrom\u001b[0m \u001b[0mxml\u001b[0m\u001b[1;33m.\u001b[0m\u001b[0mdom\u001b[0m \u001b[1;32mimport\u001b[0m \u001b[0mminidom\u001b[0m\u001b[1;33m\u001b[0m\u001b[0m\n\u001b[1;32m----> 2\u001b[1;33m \u001b[0mxmldoc\u001b[0m \u001b[1;33m=\u001b[0m \u001b[0mminidom\u001b[0m\u001b[1;33m.\u001b[0m\u001b[0mparse\u001b[0m\u001b[1;33m(\u001b[0m\u001b[1;34mr'C:\\Users\\Aditya Modi\\Desktop\\Py\\xmlsample.xml'\u001b[0m\u001b[1;33m)\u001b[0m\u001b[1;33m\u001b[0m\u001b[0m\n\u001b[0m\u001b[0;32m      3\u001b[0m \u001b[0mitemlist\u001b[0m \u001b[1;33m=\u001b[0m \u001b[0mxmldoc\u001b[0m\u001b[1;33m.\u001b[0m\u001b[0mgetElementsByTagName\u001b[0m\u001b[1;33m(\u001b[0m\u001b[1;34m'comments'\u001b[0m\u001b[1;33m)\u001b[0m\u001b[1;33m\u001b[0m\u001b[0m\n\u001b[0;32m      4\u001b[0m \u001b[0mprint\u001b[0m\u001b[1;33m(\u001b[0m\u001b[0mlen\u001b[0m\u001b[1;33m(\u001b[0m\u001b[0mitemlist\u001b[0m\u001b[1;33m)\u001b[0m\u001b[1;33m)\u001b[0m\u001b[1;33m\u001b[0m\u001b[0m\n",
      "\u001b[1;32m~\\Anaconda3\\lib\\xml\\dom\\minidom.py\u001b[0m in \u001b[0;36mparse\u001b[1;34m(file, parser, bufsize)\u001b[0m\n\u001b[0;32m   1956\u001b[0m     \u001b[1;32mif\u001b[0m \u001b[0mparser\u001b[0m \u001b[1;32mis\u001b[0m \u001b[1;32mNone\u001b[0m \u001b[1;32mand\u001b[0m \u001b[1;32mnot\u001b[0m \u001b[0mbufsize\u001b[0m\u001b[1;33m:\u001b[0m\u001b[1;33m\u001b[0m\u001b[0m\n\u001b[0;32m   1957\u001b[0m         \u001b[1;32mfrom\u001b[0m \u001b[0mxml\u001b[0m\u001b[1;33m.\u001b[0m\u001b[0mdom\u001b[0m \u001b[1;32mimport\u001b[0m \u001b[0mexpatbuilder\u001b[0m\u001b[1;33m\u001b[0m\u001b[0m\n\u001b[1;32m-> 1958\u001b[1;33m         \u001b[1;32mreturn\u001b[0m \u001b[0mexpatbuilder\u001b[0m\u001b[1;33m.\u001b[0m\u001b[0mparse\u001b[0m\u001b[1;33m(\u001b[0m\u001b[0mfile\u001b[0m\u001b[1;33m)\u001b[0m\u001b[1;33m\u001b[0m\u001b[0m\n\u001b[0m\u001b[0;32m   1959\u001b[0m     \u001b[1;32melse\u001b[0m\u001b[1;33m:\u001b[0m\u001b[1;33m\u001b[0m\u001b[0m\n\u001b[0;32m   1960\u001b[0m         \u001b[1;32mfrom\u001b[0m \u001b[0mxml\u001b[0m\u001b[1;33m.\u001b[0m\u001b[0mdom\u001b[0m \u001b[1;32mimport\u001b[0m \u001b[0mpulldom\u001b[0m\u001b[1;33m\u001b[0m\u001b[0m\n",
      "\u001b[1;32m~\\Anaconda3\\lib\\xml\\dom\\expatbuilder.py\u001b[0m in \u001b[0;36mparse\u001b[1;34m(file, namespaces)\u001b[0m\n\u001b[0;32m    909\u001b[0m     \u001b[1;32mif\u001b[0m \u001b[0misinstance\u001b[0m\u001b[1;33m(\u001b[0m\u001b[0mfile\u001b[0m\u001b[1;33m,\u001b[0m \u001b[0mstr\u001b[0m\u001b[1;33m)\u001b[0m\u001b[1;33m:\u001b[0m\u001b[1;33m\u001b[0m\u001b[0m\n\u001b[0;32m    910\u001b[0m         \u001b[1;32mwith\u001b[0m \u001b[0mopen\u001b[0m\u001b[1;33m(\u001b[0m\u001b[0mfile\u001b[0m\u001b[1;33m,\u001b[0m \u001b[1;34m'rb'\u001b[0m\u001b[1;33m)\u001b[0m \u001b[1;32mas\u001b[0m \u001b[0mfp\u001b[0m\u001b[1;33m:\u001b[0m\u001b[1;33m\u001b[0m\u001b[0m\n\u001b[1;32m--> 911\u001b[1;33m             \u001b[0mresult\u001b[0m \u001b[1;33m=\u001b[0m \u001b[0mbuilder\u001b[0m\u001b[1;33m.\u001b[0m\u001b[0mparseFile\u001b[0m\u001b[1;33m(\u001b[0m\u001b[0mfp\u001b[0m\u001b[1;33m)\u001b[0m\u001b[1;33m\u001b[0m\u001b[0m\n\u001b[0m\u001b[0;32m    912\u001b[0m     \u001b[1;32melse\u001b[0m\u001b[1;33m:\u001b[0m\u001b[1;33m\u001b[0m\u001b[0m\n\u001b[0;32m    913\u001b[0m         \u001b[0mresult\u001b[0m \u001b[1;33m=\u001b[0m \u001b[0mbuilder\u001b[0m\u001b[1;33m.\u001b[0m\u001b[0mparseFile\u001b[0m\u001b[1;33m(\u001b[0m\u001b[0mfile\u001b[0m\u001b[1;33m)\u001b[0m\u001b[1;33m\u001b[0m\u001b[0m\n",
      "\u001b[1;32m~\\Anaconda3\\lib\\xml\\dom\\expatbuilder.py\u001b[0m in \u001b[0;36mparseFile\u001b[1;34m(self, file)\u001b[0m\n\u001b[0;32m    205\u001b[0m                 \u001b[1;32mif\u001b[0m \u001b[1;32mnot\u001b[0m \u001b[0mbuffer\u001b[0m\u001b[1;33m:\u001b[0m\u001b[1;33m\u001b[0m\u001b[0m\n\u001b[0;32m    206\u001b[0m                     \u001b[1;32mbreak\u001b[0m\u001b[1;33m\u001b[0m\u001b[0m\n\u001b[1;32m--> 207\u001b[1;33m                 \u001b[0mparser\u001b[0m\u001b[1;33m.\u001b[0m\u001b[0mParse\u001b[0m\u001b[1;33m(\u001b[0m\u001b[0mbuffer\u001b[0m\u001b[1;33m,\u001b[0m \u001b[1;36m0\u001b[0m\u001b[1;33m)\u001b[0m\u001b[1;33m\u001b[0m\u001b[0m\n\u001b[0m\u001b[0;32m    208\u001b[0m                 \u001b[1;32mif\u001b[0m \u001b[0mfirst_buffer\u001b[0m \u001b[1;32mand\u001b[0m \u001b[0mself\u001b[0m\u001b[1;33m.\u001b[0m\u001b[0mdocument\u001b[0m\u001b[1;33m.\u001b[0m\u001b[0mdocumentElement\u001b[0m\u001b[1;33m:\u001b[0m\u001b[1;33m\u001b[0m\u001b[0m\n\u001b[0;32m    209\u001b[0m                     \u001b[0mself\u001b[0m\u001b[1;33m.\u001b[0m\u001b[0m_setup_subset\u001b[0m\u001b[1;33m(\u001b[0m\u001b[0mbuffer\u001b[0m\u001b[1;33m)\u001b[0m\u001b[1;33m\u001b[0m\u001b[0m\n",
      "\u001b[1;31mExpatError\u001b[0m: syntax error: line 1, column 0"
     ]
    }
   ],
   "source": [
    "from xml.dom import minidom\n",
    "xmldoc = minidom.parse(r'C:\\Users\\Aditya Modi\\Desktop\\Py\\xmlsample.xml')\n",
    "itemlist = xmldoc.getElementsByTagName('comments')\n",
    "print(len(itemlist))"
   ]
  },
  {
   "cell_type": "code",
   "execution_count": 29,
   "metadata": {},
   "outputs": [
    {
     "ename": "ParseError",
     "evalue": "syntax error: line 1, column 0 (<string>)",
     "output_type": "error",
     "traceback": [
      "Traceback \u001b[1;36m(most recent call last)\u001b[0m:\n",
      "  File \u001b[0;32m\"C:\\Users\\Aditya Modi\\Anaconda3\\lib\\site-packages\\IPython\\core\\interactiveshell.py\"\u001b[0m, line \u001b[0;32m2963\u001b[0m, in \u001b[0;35mrun_code\u001b[0m\n    exec(code_obj, self.user_global_ns, self.user_ns)\n",
      "  File \u001b[0;32m\"<ipython-input-29-4ad225c8e8ca>\"\u001b[0m, line \u001b[0;32m2\u001b[0m, in \u001b[0;35m<module>\u001b[0m\n    e = xml.etree.ElementTree.parse(r'C:\\Users\\Aditya Modi\\Desktop\\Py\\xmlsample.xml').getroot()\n",
      "  File \u001b[0;32m\"C:\\Users\\Aditya Modi\\Anaconda3\\lib\\xml\\etree\\ElementTree.py\"\u001b[0m, line \u001b[0;32m1196\u001b[0m, in \u001b[0;35mparse\u001b[0m\n    tree.parse(source, parser)\n",
      "\u001b[1;36m  File \u001b[1;32m\"C:\\Users\\Aditya Modi\\Anaconda3\\lib\\xml\\etree\\ElementTree.py\"\u001b[1;36m, line \u001b[1;32m597\u001b[1;36m, in \u001b[1;35mparse\u001b[1;36m\u001b[0m\n\u001b[1;33m    self._root = parser._parse_whole(source)\u001b[0m\n",
      "\u001b[1;36m  File \u001b[1;32m\"<string>\"\u001b[1;36m, line \u001b[1;32munknown\u001b[0m\n\u001b[1;31mParseError\u001b[0m\u001b[1;31m:\u001b[0m syntax error: line 1, column 0\n"
     ]
    }
   ],
   "source": [
    "import xml.etree.ElementTree\n",
    "e = xml.etree.ElementTree.parse(r'C:\\Users\\Aditya Modi\\Desktop\\Py\\xmlsample.xml').getroot()\n",
    "for atype in e.findall('comment'):\n",
    "    print(atype.get('count'))\n"
   ]
  },
  {
   "cell_type": "code",
   "execution_count": 31,
   "metadata": {},
   "outputs": [
    {
     "ename": "ExpatError",
     "evalue": "syntax error: line 1, column 0",
     "output_type": "error",
     "traceback": [
      "\u001b[1;31m---------------------------------------------------------------------------\u001b[0m",
      "\u001b[1;31mExpatError\u001b[0m                                Traceback (most recent call last)",
      "\u001b[1;32m<ipython-input-31-b90cb300c543>\u001b[0m in \u001b[0;36m<module>\u001b[1;34m()\u001b[0m\n\u001b[0;32m      1\u001b[0m \u001b[1;32mfrom\u001b[0m \u001b[0mxml\u001b[0m\u001b[1;33m.\u001b[0m\u001b[0mdom\u001b[0m \u001b[1;32mimport\u001b[0m \u001b[0mminidom\u001b[0m\u001b[1;33m\u001b[0m\u001b[0m\n\u001b[1;32m----> 2\u001b[1;33m \u001b[0mxmldoc\u001b[0m \u001b[1;33m=\u001b[0m \u001b[0mminidom\u001b[0m\u001b[1;33m.\u001b[0m\u001b[0mparse\u001b[0m\u001b[1;33m(\u001b[0m\u001b[1;34mr'C:\\Users\\Aditya Modi\\Desktop\\Py\\xmlsample.xml'\u001b[0m\u001b[1;33m)\u001b[0m\u001b[1;33m\u001b[0m\u001b[0m\n\u001b[0m\u001b[0;32m      3\u001b[0m \u001b[0mitemlist\u001b[0m \u001b[1;33m=\u001b[0m \u001b[0mxmldoc\u001b[0m\u001b[1;33m.\u001b[0m\u001b[0mgetElementsByTagName\u001b[0m\u001b[1;33m(\u001b[0m\u001b[1;34m'comments'\u001b[0m\u001b[1;33m)\u001b[0m\u001b[1;33m\u001b[0m\u001b[0m\n\u001b[0;32m      4\u001b[0m \u001b[0mprint\u001b[0m\u001b[1;33m(\u001b[0m\u001b[0mlen\u001b[0m\u001b[1;33m(\u001b[0m\u001b[0mitemlist\u001b[0m\u001b[1;33m)\u001b[0m\u001b[1;33m)\u001b[0m\u001b[1;33m\u001b[0m\u001b[0m\n\u001b[0;32m      5\u001b[0m \u001b[1;31m# print(itemlist[0].attributes['name'].value)\u001b[0m\u001b[1;33m\u001b[0m\u001b[1;33m\u001b[0m\u001b[0m\n",
      "\u001b[1;32m~\\Anaconda3\\lib\\xml\\dom\\minidom.py\u001b[0m in \u001b[0;36mparse\u001b[1;34m(file, parser, bufsize)\u001b[0m\n\u001b[0;32m   1956\u001b[0m     \u001b[1;32mif\u001b[0m \u001b[0mparser\u001b[0m \u001b[1;32mis\u001b[0m \u001b[1;32mNone\u001b[0m \u001b[1;32mand\u001b[0m \u001b[1;32mnot\u001b[0m \u001b[0mbufsize\u001b[0m\u001b[1;33m:\u001b[0m\u001b[1;33m\u001b[0m\u001b[0m\n\u001b[0;32m   1957\u001b[0m         \u001b[1;32mfrom\u001b[0m \u001b[0mxml\u001b[0m\u001b[1;33m.\u001b[0m\u001b[0mdom\u001b[0m \u001b[1;32mimport\u001b[0m \u001b[0mexpatbuilder\u001b[0m\u001b[1;33m\u001b[0m\u001b[0m\n\u001b[1;32m-> 1958\u001b[1;33m         \u001b[1;32mreturn\u001b[0m \u001b[0mexpatbuilder\u001b[0m\u001b[1;33m.\u001b[0m\u001b[0mparse\u001b[0m\u001b[1;33m(\u001b[0m\u001b[0mfile\u001b[0m\u001b[1;33m)\u001b[0m\u001b[1;33m\u001b[0m\u001b[0m\n\u001b[0m\u001b[0;32m   1959\u001b[0m     \u001b[1;32melse\u001b[0m\u001b[1;33m:\u001b[0m\u001b[1;33m\u001b[0m\u001b[0m\n\u001b[0;32m   1960\u001b[0m         \u001b[1;32mfrom\u001b[0m \u001b[0mxml\u001b[0m\u001b[1;33m.\u001b[0m\u001b[0mdom\u001b[0m \u001b[1;32mimport\u001b[0m \u001b[0mpulldom\u001b[0m\u001b[1;33m\u001b[0m\u001b[0m\n",
      "\u001b[1;32m~\\Anaconda3\\lib\\xml\\dom\\expatbuilder.py\u001b[0m in \u001b[0;36mparse\u001b[1;34m(file, namespaces)\u001b[0m\n\u001b[0;32m    909\u001b[0m     \u001b[1;32mif\u001b[0m \u001b[0misinstance\u001b[0m\u001b[1;33m(\u001b[0m\u001b[0mfile\u001b[0m\u001b[1;33m,\u001b[0m \u001b[0mstr\u001b[0m\u001b[1;33m)\u001b[0m\u001b[1;33m:\u001b[0m\u001b[1;33m\u001b[0m\u001b[0m\n\u001b[0;32m    910\u001b[0m         \u001b[1;32mwith\u001b[0m \u001b[0mopen\u001b[0m\u001b[1;33m(\u001b[0m\u001b[0mfile\u001b[0m\u001b[1;33m,\u001b[0m \u001b[1;34m'rb'\u001b[0m\u001b[1;33m)\u001b[0m \u001b[1;32mas\u001b[0m \u001b[0mfp\u001b[0m\u001b[1;33m:\u001b[0m\u001b[1;33m\u001b[0m\u001b[0m\n\u001b[1;32m--> 911\u001b[1;33m             \u001b[0mresult\u001b[0m \u001b[1;33m=\u001b[0m \u001b[0mbuilder\u001b[0m\u001b[1;33m.\u001b[0m\u001b[0mparseFile\u001b[0m\u001b[1;33m(\u001b[0m\u001b[0mfp\u001b[0m\u001b[1;33m)\u001b[0m\u001b[1;33m\u001b[0m\u001b[0m\n\u001b[0m\u001b[0;32m    912\u001b[0m     \u001b[1;32melse\u001b[0m\u001b[1;33m:\u001b[0m\u001b[1;33m\u001b[0m\u001b[0m\n\u001b[0;32m    913\u001b[0m         \u001b[0mresult\u001b[0m \u001b[1;33m=\u001b[0m \u001b[0mbuilder\u001b[0m\u001b[1;33m.\u001b[0m\u001b[0mparseFile\u001b[0m\u001b[1;33m(\u001b[0m\u001b[0mfile\u001b[0m\u001b[1;33m)\u001b[0m\u001b[1;33m\u001b[0m\u001b[0m\n",
      "\u001b[1;32m~\\Anaconda3\\lib\\xml\\dom\\expatbuilder.py\u001b[0m in \u001b[0;36mparseFile\u001b[1;34m(self, file)\u001b[0m\n\u001b[0;32m    205\u001b[0m                 \u001b[1;32mif\u001b[0m \u001b[1;32mnot\u001b[0m \u001b[0mbuffer\u001b[0m\u001b[1;33m:\u001b[0m\u001b[1;33m\u001b[0m\u001b[0m\n\u001b[0;32m    206\u001b[0m                     \u001b[1;32mbreak\u001b[0m\u001b[1;33m\u001b[0m\u001b[0m\n\u001b[1;32m--> 207\u001b[1;33m                 \u001b[0mparser\u001b[0m\u001b[1;33m.\u001b[0m\u001b[0mParse\u001b[0m\u001b[1;33m(\u001b[0m\u001b[0mbuffer\u001b[0m\u001b[1;33m,\u001b[0m \u001b[1;36m0\u001b[0m\u001b[1;33m)\u001b[0m\u001b[1;33m\u001b[0m\u001b[0m\n\u001b[0m\u001b[0;32m    208\u001b[0m                 \u001b[1;32mif\u001b[0m \u001b[0mfirst_buffer\u001b[0m \u001b[1;32mand\u001b[0m \u001b[0mself\u001b[0m\u001b[1;33m.\u001b[0m\u001b[0mdocument\u001b[0m\u001b[1;33m.\u001b[0m\u001b[0mdocumentElement\u001b[0m\u001b[1;33m:\u001b[0m\u001b[1;33m\u001b[0m\u001b[0m\n\u001b[0;32m    209\u001b[0m                     \u001b[0mself\u001b[0m\u001b[1;33m.\u001b[0m\u001b[0m_setup_subset\u001b[0m\u001b[1;33m(\u001b[0m\u001b[0mbuffer\u001b[0m\u001b[1;33m)\u001b[0m\u001b[1;33m\u001b[0m\u001b[0m\n",
      "\u001b[1;31mExpatError\u001b[0m: syntax error: line 1, column 0"
     ]
    }
   ],
   "source": [
    "from xml.dom import minidom\n",
    "xmldoc = minidom.parse(r'C:\\Users\\Aditya Modi\\Desktop\\Py\\xmlsample.xml')\n",
    "itemlist = xmldoc.getElementsByTagName('comments')\n",
    "print(len(itemlist))\n",
    "# print(itemlist[0].attributes['name'].value)\n",
    "# for s in itemlist:\n",
    "#     print(s.attributes['name'].value)"
   ]
  },
  {
   "cell_type": "code",
   "execution_count": 10,
   "metadata": {},
   "outputs": [
    {
     "data": {
      "text/plain": [
       "OrderedDict([('commentinfo',\n",
       "              OrderedDict([('note',\n",
       "                            'This file contains the sample data for testing'),\n",
       "                           ('comments',\n",
       "                            OrderedDict([('comment',\n",
       "                                          [OrderedDict([('name', 'Romina'),\n",
       "                                                        ('count', '97')]),\n",
       "                                           OrderedDict([('name', 'Laurie'),\n",
       "                                                        ('count', '97')]),\n",
       "                                           OrderedDict([('name', 'Bayli'),\n",
       "                                                        ('count', '90')]),\n",
       "                                           OrderedDict([('name', 'Siyona'),\n",
       "                                                        ('count', '90')]),\n",
       "                                           OrderedDict([('name', 'Taisha'),\n",
       "                                                        ('count', '88')]),\n",
       "                                           OrderedDict([('name', 'Alanda'),\n",
       "                                                        ('count', '87')]),\n",
       "                                           OrderedDict([('name', 'Ameelia'),\n",
       "                                                        ('count', '87')]),\n",
       "                                           OrderedDict([('name', 'Prasheeta'),\n",
       "                                                        ('count', '80')]),\n",
       "                                           OrderedDict([('name', 'Asif'),\n",
       "                                                        ('count', '79')]),\n",
       "                                           OrderedDict([('name', 'Risa'),\n",
       "                                                        ('count', '79')]),\n",
       "                                           OrderedDict([('name', 'Zi'),\n",
       "                                                        ('count', '78')]),\n",
       "                                           OrderedDict([('name', 'Danyil'),\n",
       "                                                        ('count', '76')]),\n",
       "                                           OrderedDict([('name', 'Ediomi'),\n",
       "                                                        ('count', '76')]),\n",
       "                                           OrderedDict([('name', 'Barry'),\n",
       "                                                        ('count', '72')]),\n",
       "                                           OrderedDict([('name', 'Lance'),\n",
       "                                                        ('count', '72')]),\n",
       "                                           OrderedDict([('name', 'Hattie'),\n",
       "                                                        ('count', '66')]),\n",
       "                                           OrderedDict([('name', 'Mathu'),\n",
       "                                                        ('count', '66')]),\n",
       "                                           OrderedDict([('name', 'Bowie'),\n",
       "                                                        ('count', '65')]),\n",
       "                                           OrderedDict([('name', 'Samara'),\n",
       "                                                        ('count', '65')]),\n",
       "                                           OrderedDict([('name', 'Uchenna'),\n",
       "                                                        ('count', '64')]),\n",
       "                                           OrderedDict([('name', 'Shauni'),\n",
       "                                                        ('count', '61')]),\n",
       "                                           OrderedDict([('name', 'Georgia'),\n",
       "                                                        ('count', '61')]),\n",
       "                                           OrderedDict([('name', 'Rivan'),\n",
       "                                                        ('count', '59')]),\n",
       "                                           OrderedDict([('name', 'Kenan'),\n",
       "                                                        ('count', '58')]),\n",
       "                                           OrderedDict([('name', 'Hassan'),\n",
       "                                                        ('count', '57')]),\n",
       "                                           OrderedDict([('name', 'Isma'),\n",
       "                                                        ('count', '57')]),\n",
       "                                           OrderedDict([('name',\n",
       "                                                         'Samanthalee'),\n",
       "                                                        ('count', '54')]),\n",
       "                                           OrderedDict([('name', 'Alexa'),\n",
       "                                                        ('count', '51')]),\n",
       "                                           OrderedDict([('name', 'Caine'),\n",
       "                                                        ('count', '49')]),\n",
       "                                           OrderedDict([('name', 'Grady'),\n",
       "                                                        ('count', '47')]),\n",
       "                                           OrderedDict([('name', 'Anne'),\n",
       "                                                        ('count', '40')]),\n",
       "                                           OrderedDict([('name', 'Rihan'),\n",
       "                                                        ('count', '38')]),\n",
       "                                           OrderedDict([('name', 'Alexei'),\n",
       "                                                        ('count', '37')]),\n",
       "                                           OrderedDict([('name', 'Indie'),\n",
       "                                                        ('count', '36')]),\n",
       "                                           OrderedDict([('name', 'Rhuairidh'),\n",
       "                                                        ('count', '36')]),\n",
       "                                           OrderedDict([('name', 'Annoushka'),\n",
       "                                                        ('count', '32')]),\n",
       "                                           OrderedDict([('name', 'Kenzi'),\n",
       "                                                        ('count', '25')]),\n",
       "                                           OrderedDict([('name', 'Shahd'),\n",
       "                                                        ('count', '24')]),\n",
       "                                           OrderedDict([('name', 'Irvine'),\n",
       "                                                        ('count', '22')]),\n",
       "                                           OrderedDict([('name', 'Carys'),\n",
       "                                                        ('count', '21')]),\n",
       "                                           OrderedDict([('name', 'Skye'),\n",
       "                                                        ('count', '19')]),\n",
       "                                           OrderedDict([('name', 'Atiya'),\n",
       "                                                        ('count', '18')]),\n",
       "                                           OrderedDict([('name', 'Rohan'),\n",
       "                                                        ('count', '18')]),\n",
       "                                           OrderedDict([('name', 'Nuala'),\n",
       "                                                        ('count', '14')]),\n",
       "                                           OrderedDict([('name', 'Maram'),\n",
       "                                                        ('count', '12')]),\n",
       "                                           OrderedDict([('name', 'Carlo'),\n",
       "                                                        ('count', '12')]),\n",
       "                                           OrderedDict([('name', 'Japleen'),\n",
       "                                                        ('count', '9')]),\n",
       "                                           OrderedDict([('name', 'Breeanna'),\n",
       "                                                        ('count', '7')]),\n",
       "                                           OrderedDict([('name', 'Zaaine'),\n",
       "                                                        ('count', '3')]),\n",
       "                                           OrderedDict([('name', 'Inika'),\n",
       "                                                        ('count',\n",
       "                                                         '2')])])]))]))])"
      ]
     },
     "execution_count": 10,
     "metadata": {},
     "output_type": "execute_result"
    }
   ],
   "source": [
    "import urllib.request\n",
    "from bs4 import BeautifulSoup\n",
    "\n",
    "page = urllib.request.urlopen('http://py4e-data.dr-chuck.net/comments_42.xml')\n",
    "import xmltodict\n",
    "result = xmltodict.parse(page)\n",
    "result\n",
    "\n"
   ]
  },
  {
   "cell_type": "code",
   "execution_count": 5,
   "metadata": {},
   "outputs": [
    {
     "ename": "ParseError",
     "evalue": "syntax error: line 1, column 0 (<string>)",
     "output_type": "error",
     "traceback": [
      "Traceback \u001b[1;36m(most recent call last)\u001b[0m:\n",
      "  File \u001b[0;32m\"C:\\Users\\Aditya Modi\\Anaconda3\\lib\\site-packages\\IPython\\core\\interactiveshell.py\"\u001b[0m, line \u001b[0;32m2963\u001b[0m, in \u001b[0;35mrun_code\u001b[0m\n    exec(code_obj, self.user_global_ns, self.user_ns)\n",
      "  File \u001b[0;32m\"<ipython-input-5-0db7accd5a5f>\"\u001b[0m, line \u001b[0;32m2\u001b[0m, in \u001b[0;35m<module>\u001b[0m\n    e = xml.etree.ElementTree.parse(r'C:\\Users\\Aditya Modi\\Desktop\\Py\\xmlsample.xml').getroot()\n",
      "  File \u001b[0;32m\"C:\\Users\\Aditya Modi\\Anaconda3\\lib\\xml\\etree\\ElementTree.py\"\u001b[0m, line \u001b[0;32m1196\u001b[0m, in \u001b[0;35mparse\u001b[0m\n    tree.parse(source, parser)\n",
      "\u001b[1;36m  File \u001b[1;32m\"C:\\Users\\Aditya Modi\\Anaconda3\\lib\\xml\\etree\\ElementTree.py\"\u001b[1;36m, line \u001b[1;32m597\u001b[1;36m, in \u001b[1;35mparse\u001b[1;36m\u001b[0m\n\u001b[1;33m    self._root = parser._parse_whole(source)\u001b[0m\n",
      "\u001b[1;36m  File \u001b[1;32m\"<string>\"\u001b[1;36m, line \u001b[1;32munknown\u001b[0m\n\u001b[1;31mParseError\u001b[0m\u001b[1;31m:\u001b[0m syntax error: line 1, column 0\n"
     ]
    }
   ],
   "source": [
    "import xml.etree.ElementTree\n",
    "e = xml.etree.ElementTree.parse(r'C:\\Users\\Aditya Modi\\Desktop\\Py\\xmlsample.xml').getroot()\n",
    "tree = ET.fromstring(e)\n",
    "lst = tree.findall('comments/comment/count')\n",
    "for item in lst:\n",
    "    print (item.get('name'))"
   ]
  },
  {
   "cell_type": "code",
   "execution_count": 16,
   "metadata": {},
   "outputs": [
    {
     "ename": "ParseError",
     "evalue": "syntax error: line 1, column 0 (<string>)",
     "output_type": "error",
     "traceback": [
      "Traceback \u001b[1;36m(most recent call last)\u001b[0m:\n",
      "  File \u001b[0;32m\"C:\\Users\\Aditya Modi\\Anaconda3\\lib\\site-packages\\IPython\\core\\interactiveshell.py\"\u001b[0m, line \u001b[0;32m2963\u001b[0m, in \u001b[0;35mrun_code\u001b[0m\n    exec(code_obj, self.user_global_ns, self.user_ns)\n",
      "  File \u001b[0;32m\"<ipython-input-16-fe0735481e57>\"\u001b[0m, line \u001b[0;32m3\u001b[0m, in \u001b[0;35m<module>\u001b[0m\n    tree = ET.parse(r'C:\\Users\\Aditya Modi\\Desktop\\Py\\xmlsample.xml')\n",
      "  File \u001b[0;32m\"C:\\Users\\Aditya Modi\\Anaconda3\\lib\\xml\\etree\\ElementTree.py\"\u001b[0m, line \u001b[0;32m1196\u001b[0m, in \u001b[0;35mparse\u001b[0m\n    tree.parse(source, parser)\n",
      "\u001b[1;36m  File \u001b[1;32m\"C:\\Users\\Aditya Modi\\Anaconda3\\lib\\xml\\etree\\ElementTree.py\"\u001b[1;36m, line \u001b[1;32m597\u001b[1;36m, in \u001b[1;35mparse\u001b[1;36m\u001b[0m\n\u001b[1;33m    self._root = parser._parse_whole(source)\u001b[0m\n",
      "\u001b[1;36m  File \u001b[1;32m\"<string>\"\u001b[1;36m, line \u001b[1;32munknown\u001b[0m\n\u001b[1;31mParseError\u001b[0m\u001b[1;31m:\u001b[0m syntax error: line 1, column 0\n"
     ]
    }
   ],
   "source": [
    "import xml.etree.cElementTree as ET\n",
    "\n",
    "tree = ET.parse(r'C:\\Users\\Aditya Modi\\Desktop\\Py\\xmlsample.xml')\n",
    "root = tree.getroot() \n",
    "root_tag = root.tag\n",
    "print(root_tag) \n",
    "\n",
    "for form in root.findall(\"./commentinfo/comments/comment/name\"):\n",
    "    x=(form.attrib)\n",
    "    z=list(x)\n",
    "    for i in z:\n",
    "        print(x[i])"
   ]
  },
  {
   "cell_type": "code",
   "execution_count": null,
   "metadata": {},
   "outputs": [],
   "source": [
    "# how to move forward from one of these\n",
    "# solve same error"
   ]
  }
 ],
 "metadata": {
  "kernelspec": {
   "display_name": "Python 3",
   "language": "python",
   "name": "python3"
  },
  "language_info": {
   "codemirror_mode": {
    "name": "ipython",
    "version": 3
   },
   "file_extension": ".py",
   "mimetype": "text/x-python",
   "name": "python",
   "nbconvert_exporter": "python",
   "pygments_lexer": "ipython3",
   "version": "3.6.5"
  }
 },
 "nbformat": 4,
 "nbformat_minor": 2
}
