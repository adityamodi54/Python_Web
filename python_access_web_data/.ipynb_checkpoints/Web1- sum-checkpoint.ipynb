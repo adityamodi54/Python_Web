{
 "cells": [
  {
   "cell_type": "code",
   "execution_count": 1,
   "metadata": {},
   "outputs": [],
   "source": [
    "\"\"\"\n",
    "\n",
    "Done\n",
    "Welcome Aditya Modi from Using Python to Access Web Data\n",
    "\n",
    "Finding Numbers in a Haystack\n",
    "\n",
    "In this assignment you will read through and parse a file with text and numbers. You will extract all the numbers in the file and compute the sum of the numbers.\n",
    "\n",
    "Data Files\n",
    "We provide two files for this assignment. One is a sample file where we give you the sum for your testing and the other is the actual data you need to process for the assignment.\n",
    "\n",
    "Sample data: http://py4e-data.dr-chuck.net/regex_sum_42.txt (There are 90 values with a sum=445833)\n",
    "Actual data: http://py4e-data.dr-chuck.net/regex_sum_113063.txt (There are 93 values and the sum ends with 493)\n",
    "These links open in a new window. Make sure to save the file into the same folder as you will be writing your Python program. Note: Each student will have a distinct data file for the assignment - so only use your own data file for analysis.\n",
    "Data Format\n",
    "The file contains much of the text from the introduction of the textbook except that random numbers are inserted throughout the text. Here is a sample of the output you might see:\n",
    "\n",
    "Why should you learn to write programs? 7746\n",
    "12 1929 8827\n",
    "Writing programs (or programming) is a very creative \n",
    "7 and rewarding activity.  You can write programs for \n",
    "many reasons, ranging from making your living to solving\n",
    "8837 a difficult data analysis problem to having fun to helping 128\n",
    "someone else solve a problem.  This book assumes that \n",
    "everyone needs to know how to program ...\n",
    "The sum for the sample text above is 27486. The numbers can appear anywhere in the line. There can be any number of numbers in each line (including none).\n",
    "Handling The Data\n",
    "The basic outline of this problem is to read the file, look for integers using the re.findall(), looking for a regular expression of '[0-9]+' and then converting the extracted strings to integers and summing up the integers.\n",
    "\n",
    "Turn in Assignent\n",
    "\n",
    "Enter the sum from the actual data and your Python code below:\n",
    "Sum: \n",
    " (ends with 493) \n",
    "Python code:\n",
    "\n",
    "\n",
    "Optional: Just for Fun\n",
    "There are a number of different ways to approach this problem. While we don't recommend trying to write the most compact code possible, it can sometimes be a fun exercise. Here is a a redacted version of two-line version of this program using list comprehension:\n",
    "\n",
    "Python 2\n",
    "import re\n",
    "print sum( [ ****** *** * in **********('[0-9]+',**************************.read()) ] )\n",
    "\n",
    "Python 3:\n",
    "import re\n",
    "print( sum( [ ****** *** * in **********('[0-9]+',**************************.read()) ] ) )\n",
    "Please don't waste a lot of time trying to figure out the shortest solution until you have completed the homework. List comprehension is mentioned in Chapter 10 and the read() method is covered in Chapter 7.\n",
    "Select Language​▼\n",
    "\n",
    "\"\"\"\n"
   ]
  },
  {
   "cell_type": "code",
   "execution_count": null,
   "metadata": {},
   "outputs": [],
   "source": [
    "-------------------------------"
   ]
  },
  {
   "cell_type": "code",
   "execution_count": 3,
   "metadata": {},
   "outputs": [],
   "source": [
    "# In this assignment you will read through and \n",
    "# parse a file with text and numbers. \n",
    "# You will extract all the numbers in the file and compute the sum of the numbers.\n",
    "\n",
    "# The basic outline of this problem is to read the file, \n",
    "# look for integers using the re.findall()\n",
    "# looking for a regular expression of '[0-9]+' and \n",
    "# then converting the extracted strings to integers and summing up the integers.\n",
    "\n"
   ]
  },
  {
   "cell_type": "code",
   "execution_count": 42,
   "metadata": {},
   "outputs": [
    {
     "name": "stdout",
     "output_type": "stream",
     "text": [
      "210770\n"
     ]
    }
   ],
   "source": [
    "# file= \"C:\\Users\\Aditya Modi\\Desktop\\Py\\Haystack_Actual data.txt\"\n",
    "lines = open(r\"C:\\Users\\Aditya Modi\\Desktop\\Py\\Haystack_Actual data.txt\").read().split(\" \")\n",
    "# print(lines)\n",
    "\n",
    "numbs=[int(s) for s in lines if s.isdigit()]\n",
    "# print(numbs)\n",
    "sum_numb=sum(numbs)\n",
    "print(sum_numb)\n",
    "\n",
    "\n",
    "\n",
    "#  numbs=[int(s) for s in lines if s.isdigit()]                  int(s) to ris, why this is a wrong way"
   ]
  },
  {
   "cell_type": "code",
   "execution_count": 43,
   "metadata": {},
   "outputs": [
    {
     "name": "stdout",
     "output_type": "stream",
     "text": [
      "409493\n"
     ]
    }
   ],
   "source": [
    "import re\n",
    "hand = open(r\"C:\\Users\\Aditya Modi\\Desktop\\Py\\Haystack_Actual data.txt\")\n",
    "l = []\n",
    "for line in hand:\n",
    "    x = re.findall('[0-9]+',line)   \n",
    "    l.extend(x)\n",
    "\n",
    "# print(l)\n",
    "\n",
    "j = [int(i) for i in l]\n",
    "add = sum(j)\n",
    "print (add)\n",
    "\n",
    "# read file, make list , \n",
    "# for x in file, find numbers , add in list\n",
    "# add list to a variable , int x in list\n",
    "#sum\n"
   ]
  },
  {
   "cell_type": "code",
   "execution_count": 36,
   "metadata": {},
   "outputs": [
    {
     "name": "stdout",
     "output_type": "stream",
     "text": [
      "409493\n"
     ]
    }
   ],
   "source": [
    "with open(r\"C:\\Users\\Aditya Modi\\Desktop\\Py\\Haystack_Actual data.txt\") as f:\n",
    "    result = sum(map(int, re.findall(r'[0-9]+', f.read())))                              # map ? whats the point of int ?\n",
    "\n",
    "print(result)\n"
   ]
  },
  {
   "cell_type": "code",
   "execution_count": 50,
   "metadata": {},
   "outputs": [
    {
     "name": "stdout",
     "output_type": "stream",
     "text": [
      "409493\n"
     ]
    }
   ],
   "source": [
    "import re\n",
    "\n",
    "f = open(r\"C:\\Users\\Aditya Modi\\Desktop\\Py\\Haystack_Actual data.txt\", 'r')\n",
    "result = 0\n",
    "for line in f.readlines():\n",
    "    for value in re.findall('[0-9]+', line):\n",
    "        result += int(value)\n",
    "# f.close()\n",
    "print(result)"
   ]
  },
  {
   "cell_type": "code",
   "execution_count": 38,
   "metadata": {},
   "outputs": [
    {
     "name": "stdout",
     "output_type": "stream",
     "text": [
      "409493\n"
     ]
    }
   ],
   "source": [
    "import re\n",
    "\n",
    "with open(r\"C:\\Users\\Aditya Modi\\Desktop\\Py\\Haystack_Actual data.txt\", 'r') as f:\n",
    "    result = sum(int(value) for value in re.findall('[0-9]+', f.read()))\n",
    "print(result)"
   ]
  },
  {
   "cell_type": "code",
   "execution_count": null,
   "metadata": {},
   "outputs": [],
   "source": [
    "# ----------------------------------------------------------------------------"
   ]
  }
 ],
 "metadata": {
  "kernelspec": {
   "display_name": "Python 3",
   "language": "python",
   "name": "python3"
  },
  "language_info": {
   "codemirror_mode": {
    "name": "ipython",
    "version": 3
   },
   "file_extension": ".py",
   "mimetype": "text/x-python",
   "name": "python",
   "nbconvert_exporter": "python",
   "pygments_lexer": "ipython3",
   "version": "3.6.5"
  }
 },
 "nbformat": 4,
 "nbformat_minor": 2
}
