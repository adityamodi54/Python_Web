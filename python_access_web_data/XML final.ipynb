{
 "cells": [
  {
   "cell_type": "code",
   "execution_count": 17,
   "metadata": {},
   "outputs": [],
   "source": [
    "# C:\\Users\\Aditya Modi\\Desktop\\Py\\xmlsample.xml\n",
    "# http://py4e-data.dr-chuck.net/comments_42.xml"
   ]
  },
  {
   "cell_type": "code",
   "execution_count": 20,
   "metadata": {},
   "outputs": [
    {
     "name": "stdout",
     "output_type": "stream",
     "text": [
      "total:  2613\n"
     ]
    }
   ],
   "source": [
    "import urllib.request\n",
    "import xml.etree.ElementTree as ET\n",
    "\n",
    "# extract all the comment/count values from the url and get the sum of all of them\n",
    "url = 'http://py4e-data.dr-chuck.net/comments_113067.xml'\n",
    "\n",
    "# get the content of the url as a string\n",
    "data = urllib.request.urlopen(url).read()\n",
    "\n",
    "# transform the string content into a xml tree\n",
    "0\n",
    "\n",
    "# find all count elements\n",
    "counts = tree.findall('comments/comment/count')\n",
    "\n",
    "# extract the value of each count element and add it to the total\n",
    "total = 0\n",
    "for count in counts:\n",
    "    total += int(count.text)\n",
    "\n",
    "print ('total: ', total)"
   ]
  },
  {
   "cell_type": "code",
   "execution_count": 26,
   "metadata": {},
   "outputs": [
    {
     "name": "stdout",
     "output_type": "stream",
     "text": [
      "2613\n"
     ]
    }
   ],
   "source": [
    "import urllib\n",
    "import xml.etree.ElementTree as ET\n",
    "\n",
    "url = 'http://py4e-data.dr-chuck.net/comments_113067.xml'\n",
    "data = urllib.request.urlopen(url).read()\n",
    "# 4a. Producing structure of grabbing the tree of nodes: deserialization\n",
    "tree = ET.fromstring(data)\n",
    "\n",
    "# 4b. Grab all the count nodes\n",
    "comments = tree.findall('.//comment')   # ???\n",
    "\n",
    "lst = list()\n",
    "# 5. Extract comment counts from XML using loop\n",
    "for item in comments:\n",
    "    count = item.find('count').text\n",
    "    count = int(count)\n",
    "    lst.append(count)\n",
    "\n",
    "print (sum(lst))\n",
    "# sum(lst)"
   ]
  },
  {
   "cell_type": "code",
   "execution_count": 27,
   "metadata": {},
   "outputs": [
    {
     "name": "stdout",
     "output_type": "stream",
     "text": [
      "Retrieving  http://py4e-data.dr-chuck.net/comments_113067.xml\n",
      "Retrieved 4223 characters\n",
      "Count:  50\n",
      "Sum:  2613\n"
     ]
    }
   ],
   "source": [
    "import urllib.request, urllib.parse, urllib.error\n",
    "import xml.etree.ElementTree as ET\n",
    "import ssl\n",
    "ctx = ssl.create_default_context()\n",
    "ctx.check_hostname = False\n",
    "ctx.verify_mode = ssl.CERT_NONE\n",
    "\n",
    "url = 'http://py4e-data.dr-chuck.net/comments_113067.xml'\n",
    "print ('Retrieving ', url)\n",
    "\n",
    "html = urllib.request.urlopen(url, context=ctx).read()\n",
    "print ('Retrieved', len(html), 'characters')\n",
    "\n",
    "tree = ET.fromstring(html)\n",
    "print ('Count: ',len(tree.findall('.//count')))\n",
    "\n",
    "total = 0\n",
    "for r in tree.findall(\"./comments/comment\"):\n",
    "    total += int(r.find('count').text)\n",
    "print ('Sum: ', total)"
   ]
  }
 ],
 "metadata": {
  "kernelspec": {
   "display_name": "Python 3",
   "language": "python",
   "name": "python3"
  },
  "language_info": {
   "codemirror_mode": {
    "name": "ipython",
    "version": 3
   },
   "file_extension": ".py",
   "mimetype": "text/x-python",
   "name": "python",
   "nbconvert_exporter": "python",
   "pygments_lexer": "ipython3",
   "version": "3.6.5"
  }
 },
 "nbformat": 4,
 "nbformat_minor": 2
}
