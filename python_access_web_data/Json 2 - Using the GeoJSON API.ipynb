{
 "cells": [
  {
   "cell_type": "code",
   "execution_count": 1,
   "metadata": {},
   "outputs": [
    {
     "data": {
      "text/plain": [
       "'\\nhttps://www.py4e.com/tools/python-data/?PHPSESSID=97f370fd55f8d5b0b972df8ad53015f5\\n\\nDone\\nWelcome Aditya Modi from Using Python to Access Web Data\\n\\nCalling a JSON API\\n\\nIn this assignment you will write a Python program somewhat similar to \\nhttp://www.py4e.com/code3/geojson.py. The program will prompt for a location, \\ncontact a web service and retrieve JSON for the web service and parse that data,\\nand retrieve the first place_id from the JSON. \\nA place ID is a textual identifier that uniquely identifies a place as within Google Maps.\\nAPI End Points\\n\\nTo complete this assignment, you should use this API endpoint that has a static subset of the Google Data:\\n\\nhttp://py4e-data.dr-chuck.net/geojson?\\nThis API uses the same parameter (address) as the Google API. \\nThis API also has no rate limit so you can test as often as you like. If you visit the URL with no parameters, \\nyou get a list of all of the address values which can be used with this API.\\nTo call the API, \\nyou need to provide address that you are requesting as the address= parameter that is properly URL encoded \\nusing the urllib.urlencode() fuction as shown in\\nhttp://www.py4e.com/code3/geojson.py\\n\\nTest Data / Sample Execution\\n\\nYou can test to see if your program is working with a location \\nof \"South Federal University\" which will have a place_id of \"ChIJJ8oO7_B_bIcR2AlhC8nKlok\".\\n\\n$ python3 solution.py\\nEnter location: South Federal University\\nRetrieving http://...\\nRetrieved 2101 characters\\nPlace id ChIJJ8oO7_B_bIcR2AlhC8nKlok\\nTurn In\\n\\nPlease run your program to find the place_id for this location:\\n\\nGrandville\\nMake sure to enter the name and case exactly as above and enter the place_id and your Python code below. \\nHint: The first seven characters of the place_id are \"ChIJ_fD ...\"\\nMake sure to retreive the data from the URL specified above and not the normal Google API. \\nYour program should work with the Google API - but the place_id may not match for this assignment.\\n\\nplace_id: \\n \\nPython code:\\n\\n\\nSelect Language\\u200b▼\\n\\n'"
      ]
     },
     "execution_count": 1,
     "metadata": {},
     "output_type": "execute_result"
    }
   ],
   "source": [
    "'''\n",
    "https://www.py4e.com/tools/python-data/?PHPSESSID=86eab881efc0c9255fc283669f6c67ba\n",
    "\n",
    "Calling a JSON API\n",
    "\n",
    "In this assignment you will write a Python program somewhat similar to \n",
    "http://www.py4e.com/code3/geojson.py.\n",
    "\n",
    "The program will prompt for a location, \n",
    "contact a web service \n",
    "and retrieve JSON for the web service \n",
    "and parse that data,\n",
    "and retrieve the first place_id from the JSON. \n",
    "A place ID is a textual identifier that uniquely identifies a place as within Google Maps.\n",
    "API End Points\n",
    "\n",
    "To complete this assignment, you should use this API endpoint that has a static subset of the Google Data:\n",
    "\n",
    "http://py4e-data.dr-chuck.net/geojson?\n",
    "This API uses the same parameter (address) as the Google API. \n",
    "This API also has no rate limit so you can test as often as you like. If you visit the URL with no parameters, \n",
    "you get a list of all of the address values which can be used with this API.\n",
    "To call the API, \n",
    "you need to provide address that you are requesting as the address= parameter that is properly URL encoded \n",
    "using the urllib.urlencode() fuction as shown in\n",
    "http://www.py4e.com/code3/geojson.py\n",
    "\n",
    "Test Data / Sample Execution\n",
    "\n",
    "You can test to see if your program is working with a location \n",
    "of \"South Federal University\" which will have a place_id of \"ChIJJ8oO7_B_bIcR2AlhC8nKlok\".\n",
    "\n",
    "$ python3 solution.py\n",
    "Enter location: South Federal University\n",
    "Retrieving http://...\n",
    "Retrieved 2101 characters\n",
    "Place id ChIJJ8oO7_B_bIcR2AlhC8nKlok\n",
    "Turn In\n",
    "\n",
    "Please run your program to find the place_id for this location:\n",
    "\n",
    "Grandville\n",
    "Make sure to enter the name and case exactly as above and enter the place_id and your Python code below. \n",
    "Hint: The first seven characters of the place_id are \"ChIJ_fD ...\"\n",
    "Make sure to retreive the data from the URL specified above and not the normal Google API. \n",
    "Your program should work with the Google API - but the place_id may not match for this assignment.\n",
    "\n",
    "place_id: \n",
    " \n",
    "Python code:\n",
    "\n",
    "\n",
    "Select Language​▼\n",
    "\n",
    "'''"
   ]
  },
  {
   "cell_type": "code",
   "execution_count": null,
   "metadata": {},
   "outputs": [],
   "source": [
    "\"\"\"\"\n",
    "\n",
    "\n",
    "how to access google maps api\n",
    "how to access it\n",
    "\n",
    "\n",
    "\n",
    "\n",
    "\n",
    "\n",
    "\"\"\"\""
   ]
  },
  {
   "cell_type": "code",
   "execution_count": null,
   "metadata": {},
   "outputs": [
    {
     "name": "stdout",
     "output_type": "stream",
     "text": [
      "Enter location: Grandville\n",
      "Retrieving http://py4e-data.dr-chuck.net/geojson?address=Grandville\n",
      "Retrieved 1752 characters\n",
      "ChIJ_fDhukJSGIgRM_5vcXgXv-4\n"
     ]
    }
   ],
   "source": [
    "import urllib.request, urllib.parse, urllib.error\n",
    "import json\n",
    "\n",
    "# Note that Google is increasingly requiring keys\n",
    "# for this API\n",
    "serviceurl = 'http://py4e-data.dr-chuck.net/geojson?'\n",
    "\n",
    "while True:\n",
    "    address = input('Enter location: ')\n",
    "    if len(address) < 1: break\n",
    "\n",
    "    url = serviceurl + urllib.parse.urlencode({'address': address})   #?????????????????  why cant we do url + adress \n",
    "\n",
    "    print('Retrieving', url)\n",
    "    \n",
    "    uh = urllib.request.urlopen(url)\n",
    "    \n",
    "    data = uh.read().decode()                                       #  decode  ?\n",
    "    print('Retrieved', len(data), 'characters')\n",
    "\n",
    "    try:\n",
    "        js = json.loads(data)\n",
    "    except:\n",
    "        js = None\n",
    "\n",
    "    if not js or 'status' not in js or js['status'] != 'OK':\n",
    "        print('==== Failure To Retrieve ====')\n",
    "        print(data)\n",
    "        continue\n",
    "\n",
    "#     print(json.dumps(js, indent=4))\n",
    "    plc_id = js[\"results\"][0][\"place_id\"]\n",
    "    print(plc_id)\n",
    "#     lat = js[\"results\"][0][\"geometry\"][\"location\"][\"lat\"]\n",
    "#     lng = js[\"results\"][0][\"geometry\"][\"location\"][\"lng\"]\n",
    "#     print('lat', lat, 'lng', lng)\n",
    "#     location = js['results'][0]['formatted_address']\n",
    "#     print(location)\n",
    "    \n",
    "    "
   ]
  }
 ],
 "metadata": {
  "kernelspec": {
   "display_name": "Python 3",
   "language": "python",
   "name": "python3"
  },
  "language_info": {
   "codemirror_mode": {
    "name": "ipython",
    "version": 3
   },
   "file_extension": ".py",
   "mimetype": "text/x-python",
   "name": "python",
   "nbconvert_exporter": "python",
   "pygments_lexer": "ipython3",
   "version": "3.6.5"
  }
 },
 "nbformat": 4,
 "nbformat_minor": 2
}
